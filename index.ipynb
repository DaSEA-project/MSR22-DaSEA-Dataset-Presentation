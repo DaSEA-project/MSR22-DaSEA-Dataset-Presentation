{
 "cells": [
  {
   "cell_type": "markdown",
   "metadata": {
    "slideshow": {
     "slide_type": "slide"
    }
   },
   "source": [
    "<h1 style=\"text-align: center\">DaSEA – A Dataset for Software Ecosystem Analysis</h1>\n",
    "\n",
    "<h3 style=\"text-align: center\">\n",
    "    <a href=\"https://conf.researchr.org/track/msr-2022/msr-2022-technical-papers?track=MSR%20Data%20and%20Tool%20Showcase%20Track#\">Data and Tool Showcase Track @ MSR 2022</a>\n",
    "</h3>\n",
    "\n",
    "<p style=\"text-align: center\">\n",
    "    Petya Buchkova, Joakim Hey Hinnerskov, Kasper Olsen, <u>Rolf-Helge Pfeiffer</u><br>\n",
    "    <tt>[pebu|jhhi|kols|ropf]@itu.dk</tt><br>\n",
    "    IT University of Copenhagen Copenhagen, Denmark\n",
    "</p>"
   ]
  },
  {
   "cell_type": "markdown",
   "metadata": {
    "slideshow": {
     "slide_type": "slide"
    }
   },
   "source": [
    "<h1 style=\"text-align: center\">Motivation</h1>"
   ]
  },
  {
   "cell_type": "markdown",
   "metadata": {
    "slideshow": {
     "slide_type": "subslide"
    }
   },
   "source": [
    "## The libraries.io dataset\n",
    "\n",
    "  * The [libraries.io dataset](https://libraries.io/data) has [not been updated since Jan. 12th 2020](https://zenodo.org/record/3626071)\n",
    "  * Researchers [request an updated dataset](https://github.com/librariesio/libraries.io/issues/2744) since start 2021\n",
    "  * We [need an updated dataset](https://arxiv.org/pdf/2203.01634.pdf) [for our work too](https://github.com/ossf/criticality_score/issues/53)\n",
    "  * The libraries.io dataset cannot be reproduced or updated locally only with the help of the [provided tool]( https://github.com/librariesio/libraries.io) and [documentation](https://github.com/librariesio/libraries.io/blob/main/docs/development-setup.md)\n",
    "\n",
    "<table>\n",
    "  <tr>\n",
    "    <th><a href=\"https://libraries.io/data\"><img src=\"images/librariesio.png\" width=\"75%\"></a></th>\n",
    "    <th><a href=\"https://github.com/librariesio/libraries.io/issues/2744\"><img src=\"images/request.png\" width=\"75%\"></a></th>\n",
    "  </tr>\n",
    "</table> \n",
    "\n"
   ]
  },
  {
   "cell_type": "markdown",
   "metadata": {
    "slideshow": {
     "slide_type": "slide"
    }
   },
   "source": [
    "<h1 style=\"text-align: center\">The DaSEA dataset</h1>"
   ]
  },
  {
   "cell_type": "markdown",
   "metadata": {
    "slideshow": {
     "slide_type": "subslide"
    }
   },
   "source": [
    "## Getting the DaSEA dataset\n",
    "\n",
    "<center>\n",
    "  <img src=\"images/getit.png\" width=\"40%\">\n",
    "</center>"
   ]
  },
  {
   "cell_type": "code",
   "execution_count": null,
   "metadata": {},
   "outputs": [],
   "source": [
    "%%bash\n",
    "wget https://zenodo.org/record/6369420/files/dasea_03-18-2022.tar.bz2"
   ]
  },
  {
   "cell_type": "markdown",
   "metadata": {
    "slideshow": {
     "slide_type": "subslide"
    }
   },
   "source": [
    "## How does the DaSEA dataset look like?\n",
    "\n",
    "To get an overview over which ecosystems are included in the release of the dataset before decompression, the files of the dataset can be listed as in the following."
   ]
  },
  {
   "cell_type": "code",
   "execution_count": null,
   "metadata": {},
   "outputs": [],
   "source": [
    "%%bash\n",
    "tar -tvjf dasea_03-18-2022.tar.bz2"
   ]
  },
  {
   "cell_type": "markdown",
   "metadata": {
    "slideshow": {
     "slide_type": "subslide"
    }
   },
   "source": [
    "## How does the DaSEA dataset look like?\n",
    "\n",
    "The respective files can be decompressed separately, in case only the dependency networks of certain package managers, or only cartain information is required.  For example, the dependency networks from the `pkgsrc` packages on NetBSD or the dependency graph from `Conan` can be extracted as in the following."
   ]
  },
  {
   "cell_type": "code",
   "execution_count": null,
   "metadata": {},
   "outputs": [],
   "source": [
    "%%bash\n",
    "tar -jxf dasea_03-18-2022.tar.bz2 ports/netbsd9/netbsd9_dependencies_03-18-2022.csv\n",
    "tar -jxf dasea_03-18-2022.tar.bz2 ports/netbsd9/netbsd9_packages_03-18-2022.csv\n",
    "tar -jxf dasea_03-18-2022.tar.bz2 ports/netbsd9/netbsd9_versions_03-18-2022.csv"
   ]
  },
  {
   "cell_type": "code",
   "execution_count": null,
   "metadata": {},
   "outputs": [],
   "source": [
    "%%bash\n",
    "tar -jxf dasea_03-18-2022.tar.bz2 conan/conan_versions_03-18-2022.csv\n",
    "tar -jxf dasea_03-18-2022.tar.bz2 conan/conan_packages_03-18-2022.csv\n",
    "tar -jxf dasea_03-18-2022.tar.bz2 conan/conan_dependencies_03-18-2022.csv"
   ]
  },
  {
   "cell_type": "code",
   "execution_count": null,
   "metadata": {},
   "outputs": [],
   "source": [
    "%%bash\n",
    "tar -jxf dasea_03-18-2022.tar.bz2 vcpkg/vcpkg_versions_03-18-2022.csv\n",
    "tar -jxf dasea_03-18-2022.tar.bz2 vcpkg/vcpkg_packages_03-18-2022.csv\n",
    "tar -jxf dasea_03-18-2022.tar.bz2 vcpkg/vcpkg_dependencies_03-18-2022.csv"
   ]
  },
  {
   "cell_type": "markdown",
   "metadata": {
    "slideshow": {
     "slide_type": "subslide"
    }
   },
   "source": [
    "## How does the DaSEA dataset look like?\n",
    "\n",
    "Per package manager, the dataset consists of three CSV files named: `<package_manager>_[packages|versions|dependencies]_<miningdate>.csv`"
   ]
  },
  {
   "cell_type": "code",
   "execution_count": null,
   "metadata": {},
   "outputs": [],
   "source": [
    "%%bash\n",
    "head -4 conan/conan_packages_03-18-2022.csv"
   ]
  },
  {
   "cell_type": "code",
   "execution_count": null,
   "metadata": {},
   "outputs": [],
   "source": [
    "%%bash\n",
    "head -4 conan/conan_versions_03-18-2022.csv"
   ]
  },
  {
   "cell_type": "code",
   "execution_count": null,
   "metadata": {},
   "outputs": [],
   "source": [
    "%%bash\n",
    "head -4 conan/conan_dependencies_03-18-2022.csv"
   ]
  },
  {
   "cell_type": "markdown",
   "metadata": {
    "slideshow": {
     "slide_type": "subslide"
    }
   },
   "source": [
    "## The DaSEA data model\n",
    "\n",
    "Per package manager, the three CSV files correspond to the three correspondingly named classes in the data model.\n",
    "\n",
    "<center>\n",
    "    <img src=\"images/schema.png\" width=\"35%\">\n",
    "</center>"
   ]
  },
  {
   "cell_type": "markdown",
   "metadata": {
    "slideshow": {
     "slide_type": "subslide"
    }
   },
   "source": [
    "## DaSEA, behind the scences\n",
    "\n",
    "The DaSEA dataset is created by a set of _miners_ (Python scripts) that collect metadata of packages, their versions, and dependencies from suitable sources, convert it into the uniform data model, and serialize it to CSV files. \n",
    "\n",
    "<center>\n",
    "    <img src=\"images/mining.png\" width=\"37%\">\n",
    "</center>"
   ]
  },
  {
   "cell_type": "markdown",
   "metadata": {
    "slideshow": {
     "slide_type": "subslide"
    }
   },
   "source": [
    "<h1 style=\"text-align: center\">How to use the DaSEA dataset</h1>"
   ]
  },
  {
   "cell_type": "markdown",
   "metadata": {
    "slideshow": {
     "slide_type": "subslide"
    }
   },
   "source": [
    "### Example use case – SQL: Identify packages with highest in-degree"
   ]
  },
  {
   "cell_type": "code",
   "execution_count": null,
   "metadata": {},
   "outputs": [],
   "source": [
    "import pandas as pd\n",
    "from sqlalchemy import create_engine\n",
    "\n",
    "\n",
    "db_engine = create_engine('sqlite://')  # in memory DB\n",
    "\n",
    "deps_df = pd.read_csv(\"ports/netbsd9/netbsd9_dependencies_03-18-2022.csv\")\n",
    "deps_df.to_sql(\"Dependencies\", db_engine)\n",
    "\n",
    "query = \"\"\"SELECT target_name, COUNT(target_name) AS indegree FROM Dependencies\n",
    "GROUP BY target_name ORDER BY indegree DESC\n",
    "LIMIT 10;\"\"\"\n",
    "\n",
    "pd.read_sql(query, db_engine)"
   ]
  },
  {
   "cell_type": "markdown",
   "metadata": {
    "slideshow": {
     "slide_type": "subslide"
    }
   },
   "source": [
    "### Example use case – Pandas: Identify license changes"
   ]
  },
  {
   "cell_type": "code",
   "execution_count": null,
   "metadata": {},
   "outputs": [],
   "source": [
    "import pandas as pd\n",
    "pd.set_option('display.max_colwidth', None)\n",
    "\n",
    "df = pd.read_csv(\"conan/conan_versions_03-18-2022.csv\")\n",
    "rdf = df.groupby(\"pkg_idx\").filter(lambda x: len(set(x.license)) > 1)\n",
    "ldf = rdf.groupby(\"name\").apply(lambda x: set(x.license)).to_frame().reset_index()\n",
    "ldf.rename(columns={0: \"licenses\"}, inplace=True)\n",
    "ldf"
   ]
  },
  {
   "cell_type": "markdown",
   "metadata": {
    "slideshow": {
     "slide_type": "subslide"
    }
   },
   "source": [
    "### Example use case –  NetworkX: Compute a centrality metric"
   ]
  },
  {
   "cell_type": "code",
   "execution_count": null,
   "metadata": {},
   "outputs": [],
   "source": [
    "import pandas as pd\n",
    "import networkx as nx\n",
    "import numpy as np\n",
    "\n",
    "ddf = pd.read_csv(\"conan/conan_dependencies_03-18-2022.csv\")\n",
    "ddf = ddf[(~ddf.pkg_idx.isnull()) & (~ddf.target_idx.isnull())]\n",
    "adjl = ddf[[\"pkg_idx\", \"target_idx\"]].to_numpy()\n",
    "np.savetxt(\"/tmp/conan.adjl\", adjl, fmt=\"%u\", delimiter=\" \")\n",
    "\n",
    "g = nx.read_adjlist(\"/tmp/conan.adjl\", nodetype=int, create_using=nx.DiGraph)\n",
    "betweennes_ranks = nx.betweenness_centrality(g)\n",
    "data = sorted(betweennes_ranks.items(), key=lambda item: item[1], reverse=True)\n",
    "rdf = pd.DataFrame(data, columns=[\"pkg_idx\", \"betweenes\"])\n",
    "\n",
    "pdf = pd.read_csv(\"conan/conan_packages_03-18-2022.csv\")\n",
    "pd.merge(pdf, rdf, left_on=\"idx\", right_on=\"pkg_idx\").sort_values(by=\"betweenes\", ascending=False)[:3]"
   ]
  },
  {
   "cell_type": "markdown",
   "metadata": {
    "slideshow": {
     "slide_type": "subslide"
    }
   },
   "source": [
    "### Example use case –  SigmaJS: Visualize a dependency graph"
   ]
  },
  {
   "cell_type": "code",
   "execution_count": null,
   "metadata": {},
   "outputs": [],
   "source": [
    "import pandas as pd, numpy as np, networkx as nx\n",
    "from ipysigma import Sigma\n",
    "\n",
    "ddf = pd.read_csv(\"vcpkg/vcpkg_dependencies_03-18-2022.csv\")\n",
    "ddf = ddf[(~ddf.pkg_idx.isnull()) & (~ddf.target_idx.isnull())]\n",
    "adjl = ddf[[\"source_name\", \"target_name\"]]\n",
    "adjl.to_csv(\"/tmp/vcpkg.adjl\", index=False, header=False)\n",
    "g = nx.read_adjlist(\"/tmp/vcpkg.adjl\", nodetype=str, delimiter=\",\", create_using=nx.DiGraph)\n",
    "Sigma(g)"
   ]
  },
  {
   "cell_type": "markdown",
   "metadata": {
    "slideshow": {
     "slide_type": "slide"
    }
   },
   "source": [
    "<table>\n",
    "  <tr>\n",
    "    <th>\n",
    "    </th>\n",
    "    <th>\n",
    "      <a href=\"http://dasea.org\">\n",
    "        <center>\n",
    "          <h2>Get the dataset</h2>\n",
    "          <img src=\"images/getit_end.png\" width=\"96%\">\n",
    "        </center>\n",
    "      </a>      \n",
    "    </th>\n",
    "    <th>\n",
    "    </th>      \n",
    "  </tr>\n",
    "  <tr>\n",
    "    <th>\n",
    "      <a href=\"https://mybinder.org/v2/gh/DaSEA-project/MSR22-DaSEA-Dataset-Presentation/main?filepath=index.ipynb\">\n",
    "        <center>\n",
    "          <h2>Check the presentation</h2>\n",
    "          <img src=\"images/presentation.png\" width=\"87%\">\n",
    "        </center>\n",
    "      </a>\n",
    "    </th>\n",
    "    <th>\n",
    "      <a href=\"https://github.com/DaSEA-project/DASEA\">\n",
    "        <center>\n",
    "          <h2>Contribute</h2>\n",
    "          <img src=\"images/contribute.png\" width=\"90%\">\n",
    "        </center>\n",
    "      </a>\n",
    "    </th>\n",
    "    <th>\n",
    "      <a href=\"https://itu.dk/~ropf/blog/assets/msr2022.pdf\">\n",
    "        <center>\n",
    "          <h2>Read the paper</h2>\n",
    "          <img src=\"images/paper.png\" width=\"100%\">\n",
    "        </center>\n",
    "      </a>\n",
    "    </th>      \n",
    "  </tr>    \n",
    "</table>"
   ]
  }
 ],
 "metadata": {
  "celltoolbar": "Slideshow",
  "kernelspec": {
   "display_name": "Python 3",
   "language": "python",
   "name": "python3"
  },
  "language_info": {
   "codemirror_mode": {
    "name": "ipython",
    "version": 3
   },
   "file_extension": ".py",
   "mimetype": "text/x-python",
   "name": "python",
   "nbconvert_exporter": "python",
   "pygments_lexer": "ipython3",
   "version": "3.7.6"
  },
  "livereveal": {
   "autolaunch": true,
   "scroll": true
  }
 },
 "nbformat": 4,
 "nbformat_minor": 2
}
