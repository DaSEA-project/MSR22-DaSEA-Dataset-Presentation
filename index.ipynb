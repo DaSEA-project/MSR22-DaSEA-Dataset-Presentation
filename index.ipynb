{
 "cells": [
  {
   "cell_type": "markdown",
   "metadata": {
    "slideshow": {
     "slide_type": "slide"
    }
   },
   "source": [
    "<h1 style=\"text-align: center\">DaSEA – A Dataset for Software Ecosystem Analysis</h1>\n",
    "\n",
    "<h3 style=\"text-align: center\">\n",
    "    <a href=\"https://conf.researchr.org/track/msr-2022/msr-2022-technical-papers?track=MSR%20Data%20and%20Tool%20Showcase%20Track#\">Data and Tool Showcase Track @ MSR 2022</a>\n",
    "</h3>\n",
    "\n",
    "<p style=\"text-align: center\">\n",
    "    Petya Buchkova, Joakim Hey Hinnerskov, Kasper Olsen, <u>Rolf-Helge Pfeiffer</u><br>\n",
    "    <tt>[pebu|jhhi|kols|ropf]@itu.dk</tt><br>\n",
    "    IT University of Copenhagen, Denmark\n",
    "</p>"
   ]
  },
  {
   "cell_type": "markdown",
   "metadata": {
    "slideshow": {
     "slide_type": "slide"
    }
   },
   "source": [
    "<h1 style=\"text-align: center\">Motivation</h1>"
   ]
  },
  {
   "cell_type": "markdown",
   "metadata": {
    "slideshow": {
     "slide_type": "subslide"
    }
   },
   "source": [
    "## The libraries.io dataset\n",
    "\n",
    "  * The [libraries.io dataset](https://libraries.io/data) has [not been updated since Jan. 12th 2020](https://zenodo.org/record/3626071)\n",
    "  * Researchers [request an updated dataset](https://github.com/librariesio/libraries.io/issues/2744) since start 2021\n",
    "  * We [need an updated dataset](https://arxiv.org/pdf/2203.01634.pdf) [for our work too](https://github.com/ossf/criticality_score/issues/53)\n",
    "  * The libraries.io dataset cannot be reproduced or updated locally only with the help of the [provided tool]( https://github.com/librariesio/libraries.io) and [documentation](https://github.com/librariesio/libraries.io/blob/main/docs/development-setup.md)\n",
    "\n",
    "<table>\n",
    "  <tr>\n",
    "    <th><a href=\"https://libraries.io/data\"><img src=\"images/librariesio.png\" width=\"75%\"></a></th>\n",
    "    <th><a href=\"https://github.com/librariesio/libraries.io/issues/2744\"><img src=\"images/request.png\" width=\"75%\"></a></th>\n",
    "  </tr>\n",
    "</table> \n",
    "\n"
   ]
  },
  {
   "cell_type": "markdown",
   "metadata": {
    "slideshow": {
     "slide_type": "slide"
    }
   },
   "source": [
    "<h1 style=\"text-align: center\">The DaSEA dataset</h1>"
   ]
  },
  {
   "cell_type": "markdown",
   "metadata": {
    "slideshow": {
     "slide_type": "subslide"
    }
   },
   "source": [
    "## Getting the DaSEA dataset\n",
    "\n",
    "<center>\n",
    "  <img src=\"images/getit.png\" width=\"40%\">\n",
    "</center>"
   ]
  },
  {
   "cell_type": "code",
   "execution_count": null,
   "metadata": {},
   "outputs": [],
   "source": [
    "%%bash\n",
    "wget https://zenodo.org/record/6369420/files/dasea_03-18-2022.tar.bz2"
   ]
  },
  {
   "cell_type": "markdown",
   "metadata": {
    "slideshow": {
     "slide_type": "subslide"
    }
   },
   "source": [
    "## How does the DaSEA dataset look like?\n",
    "\n",
    "To get an overview over which ecosystems are included in the release of the dataset before decompression, the files of the dataset can be listed as in the following."
   ]
  },
  {
   "cell_type": "code",
   "execution_count": 4,
   "metadata": {},
   "outputs": [
    {
     "name": "stdout",
     "output_type": "stream",
     "text": [
      "-rw-r--r--  0 root   root  1055004 Mar 18 13:44 ports/openbsd69/openbsd69_versions_03-18-2022.csv\n",
      "-rw-r--r--  0 root   root   289284 Mar 18 13:44 ports/openbsd69/openbsd69_packages_03-18-2022.csv\n",
      "-rw-r--r--  0 root   root  1596975 Mar 18 13:44 ports/openbsd69/openbsd69_dependencies_03-18-2022.csv\n",
      "-rw-r--r--  0 root   root  2033480 Mar 19 00:39 ports/netbsd9/netbsd9_dependencies_03-18-2022.csv\n",
      "-rw-r--r--  0 root   root   722531 Mar 19 00:39 ports/netbsd9/netbsd9_packages_03-18-2022.csv\n",
      "-rw-r--r--  0 root   root  2910856 Mar 19 00:39 ports/netbsd9/netbsd9_versions_03-18-2022.csv\n",
      "-rw-r--r--  0 root   root 15065914 Mar 18 13:59 ports/freebsd11/freebsd11_dependencies_03-18-2022.csv\n",
      "-rw-r--r--  0 root   root  1276637 Mar 18 13:59 ports/freebsd11/freebsd11_packages_03-18-2022.csv\n",
      "-rw-r--r--  0 root   root  4450481 Mar 18 13:59 ports/freebsd11/freebsd11_versions_03-18-2022.csv\n",
      "-rw-r--r--  0 root   root   296420 Mar 18 10:40 vcpkg/vcpkg_dependencies_03-18-2022.csv\n",
      "-rw-r--r--  0 root   root    37836 Mar 18 10:40 vcpkg/vcpkg_packages_03-18-2022.csv\n",
      "-rw-r--r--  0 root   root   262594 Mar 18 10:40 vcpkg/vcpkg_versions_03-18-2022.csv\n",
      "-rw-r--r--  0 root   root   391704 Mar 18 10:40 chromebrew/chromebrew_versions_03-18-2022.csv\n",
      "-rw-r--r--  0 root   root    46203 Mar 18 10:40 chromebrew/chromebrew_packages_03-18-2022.csv\n",
      "-rw-r--r--  0 root   root   239604 Mar 18 10:40 chromebrew/chromebrew_dependencies_03-18-2022.csv\n",
      "-rw-r--r--  0 root   root 116295789 Mar 18 10:40 cargo/cargo_versions_03-18-2022.csv\n",
      "-rw-r--r--  0 root   root   9864670 Mar 18 10:40 cargo/cargo_packages_03-18-2022.csv\n",
      "-rw-r--r--  0 root   root 255812401 Mar 18 10:40 cargo/cargo_dependencies_03-18-2022.csv\n",
      "-rw-r--r--  0 root   root     30321 Mar 18 10:40 alire/alire_dependencies_03-18-2022.csv\n",
      "-rw-r--r--  0 root   root      5896 Mar 18 10:40 alire/alire_packages_03-18-2022.csv\n",
      "-rw-r--r--  0 root   root    105893 Mar 18 10:40 alire/alire_versions_03-18-2022.csv\n",
      "-rw-r--r--  0 root   root      1954 Mar 18 10:40 fpm/fpm_dependencies_03-18-2022.csv\n",
      "-rw-r--r--  0 root   root       663 Mar 18 10:40 fpm/fpm_packages_03-18-2022.csv\n",
      "-rw-r--r--  0 root   root      6475 Mar 18 10:40 fpm/fpm_versions_03-18-2022.csv\n",
      "-rw-r--r--  0 root   root    690329 Mar 18 10:40 homebrew/homebrew_dependencies_03-18-2022.csv\n",
      "-rw-r--r--  0 root   root   1110239 Mar 18 10:40 homebrew/homebrew_versions_03-18-2022.csv\n",
      "-rw-r--r--  0 root   root    135499 Mar 18 10:40 homebrew/homebrew_packages_03-18-2022.csv\n",
      "-rw-r--r--  0 root   root    171059 Mar 18 12:17 nimble/nimble_versions_03-18-2022.csv\n",
      "-rw-r--r--  0 root   root    272922 Mar 18 12:17 nimble/nimble_packages_03-18-2022.csv\n",
      "-rw-r--r--  0 root   root    155672 Mar 18 12:17 nimble/nimble_dependencies_03-18-2022.csv\n",
      "-rw-r--r--  0 root   root    502110 Mar 18 12:41 conan/conan_versions_03-18-2022.csv\n",
      "-rw-r--r--  0 root   root     23871 Mar 18 12:41 conan/conan_packages_03-18-2022.csv\n",
      "-rw-r--r--  0 root   root     68839 Mar 18 12:41 conan/conan_dependencies_03-18-2022.csv\n"
     ]
    }
   ],
   "source": [
    "%%bash\n",
    "tar -tvjf dasea_03-18-2022.tar.bz2"
   ]
  },
  {
   "cell_type": "markdown",
   "metadata": {
    "slideshow": {
     "slide_type": "subslide"
    }
   },
   "source": [
    "## How does the DaSEA dataset look like?\n",
    "\n",
    "The respective files can be decompressed separately, in case only the dependency networks of certain package managers, or only cartain information is required.  For example, the dependency networks from the `pkgsrc` packages on NetBSD or the dependency graph from `Conan` can be extracted as in the following."
   ]
  },
  {
   "cell_type": "code",
   "execution_count": 5,
   "metadata": {},
   "outputs": [],
   "source": [
    "%%bash\n",
    "tar -jxf dasea_03-18-2022.tar.bz2 ports/netbsd9/netbsd9_dependencies_03-18-2022.csv\n",
    "tar -jxf dasea_03-18-2022.tar.bz2 ports/netbsd9/netbsd9_packages_03-18-2022.csv \n",
    "tar -jxf dasea_03-18-2022.tar.bz2 ports/netbsd9/netbsd9_versions_03-18-2022.csv"
   ]
  },
  {
   "cell_type": "code",
   "execution_count": 6,
   "metadata": {},
   "outputs": [],
   "source": [
    "%%bash\n",
    "tar -jxf dasea_03-18-2022.tar.bz2 conan/conan_versions_03-18-2022.csv\n",
    "tar -jxf dasea_03-18-2022.tar.bz2 conan/conan_packages_03-18-2022.csv\n",
    "tar -jxf dasea_03-18-2022.tar.bz2 conan/conan_dependencies_03-18-2022.csv"
   ]
  },
  {
   "cell_type": "code",
   "execution_count": 7,
   "metadata": {},
   "outputs": [],
   "source": [
    "%%bash\n",
    "tar -jxf dasea_03-18-2022.tar.bz2 vcpkg/vcpkg_versions_03-18-2022.csv\n",
    "tar -jxf dasea_03-18-2022.tar.bz2 vcpkg/vcpkg_packages_03-18-2022.csv\n",
    "tar -jxf dasea_03-18-2022.tar.bz2 vcpkg/vcpkg_dependencies_03-18-2022.csv"
   ]
  },
  {
   "cell_type": "markdown",
   "metadata": {
    "slideshow": {
     "slide_type": "skip"
    }
   },
   "source": [
    "## How does the DaSEA dataset look like?\n",
    "\n",
    "Per package manager, the dataset consists of three CSV files named: `<package_manager>_[packages|versions|dependencies]_<miningdate>.csv`"
   ]
  },
  {
   "cell_type": "code",
   "execution_count": 8,
   "metadata": {
    "slideshow": {
     "slide_type": "skip"
    }
   },
   "outputs": [
    {
     "name": "stdout",
     "output_type": "stream",
     "text": [
      "idx,name,pkgman\n",
      "0,7zip,Conan\n",
      "1,aaf,Conan\n",
      "2,aaplus,Conan\n"
     ]
    }
   ],
   "source": [
    "%%bash\n",
    "head -4 conan/conan_packages_03-18-2022.csv"
   ]
  },
  {
   "cell_type": "code",
   "execution_count": 9,
   "metadata": {
    "slideshow": {
     "slide_type": "skip"
    }
   },
   "outputs": [
    {
     "name": "stdout",
     "output_type": "stream",
     "text": [
      "idx,pkg_idx,name,version,license,description,homepage,repository,author,maintainer,os_platform\n",
      "0,55,aws-c-event-stream,0.1.5,['Apache-2.0'],\"Core c99 package for AWS SDK for C. Includes cross-platform primitives, configuration, data structures, and error handling.\",https://github.com/awslabs/aws-c-common,,,,linux\n",
      "1,55,aws-c-event-stream,0.2.7,['Apache-2.0'],\"Aws Crypto Abstraction Layer: Cross-Platform, C99 wrapper for cryptography primitives.\",https://github.com/awslabs/aws-c-cal,,,,linux\n",
      "2,545,libiconv,1.16,['LGPL-2.1'],Convert text to and from Unicode,https://www.gnu.org/software/libiconv/,,,,linux\n"
     ]
    }
   ],
   "source": [
    "%%bash\n",
    "head -4 conan/conan_versions_03-18-2022.csv"
   ]
  },
  {
   "cell_type": "code",
   "execution_count": 10,
   "metadata": {
    "slideshow": {
     "slide_type": "skip"
    }
   },
   "outputs": [
    {
     "name": "stdout",
     "output_type": "stream",
     "text": [
      "pkg_idx,source_idx,target_idx,source_name,target_name,source_version,target_version,kind,target_version_idx\n",
      "55,1,53,aws-c-event-stream,aws-c-common,0.2.7,0.6.15,BUILD,3083\n",
      "55,1,819,aws-c-event-stream,openssl,0.2.7,1.1.1m,BUILD,2525\n",
      "1216,4,1217,zint,zlib,2.10.0,1.2.11,BUILD,2473\n"
     ]
    }
   ],
   "source": [
    "%%bash\n",
    "head -4 conan/conan_dependencies_03-18-2022.csv"
   ]
  },
  {
   "cell_type": "markdown",
   "metadata": {
    "slideshow": {
     "slide_type": "subslide"
    }
   },
   "source": [
    "## The DaSEA data model\n",
    "\n",
    "Per package manager, the three CSV files correspond to the three correspondingly named classes in the data model.\n",
    "\n",
    "<center>\n",
    "    <img src=\"images/schema.png\" width=\"35%\">\n",
    "</center>"
   ]
  },
  {
   "cell_type": "markdown",
   "metadata": {
    "slideshow": {
     "slide_type": "subslide"
    }
   },
   "source": [
    "## DaSEA, behind the scences\n",
    "\n",
    "The DaSEA dataset is created by a set of _miners_ (Python scripts) that collect metadata of packages, their versions, and dependencies from suitable sources, convert it into the uniform data model, and serialize it to CSV files. \n",
    "\n",
    "<center>\n",
    "    <img src=\"images/mining.png\" width=\"37%\">\n",
    "</center>"
   ]
  },
  {
   "cell_type": "markdown",
   "metadata": {
    "slideshow": {
     "slide_type": "subslide"
    }
   },
   "source": [
    "<h1 style=\"text-align: center\">How to use the DaSEA dataset</h1>"
   ]
  },
  {
   "cell_type": "markdown",
   "metadata": {
    "slideshow": {
     "slide_type": "subslide"
    }
   },
   "source": [
    "### Example use case – SQL: Identify packages with highest in-degree"
   ]
  },
  {
   "cell_type": "code",
   "execution_count": 11,
   "metadata": {},
   "outputs": [
    {
     "data": {
      "text/html": [
       "<div>\n",
       "<style scoped>\n",
       "    .dataframe tbody tr th:only-of-type {\n",
       "        vertical-align: middle;\n",
       "    }\n",
       "\n",
       "    .dataframe tbody tr th {\n",
       "        vertical-align: top;\n",
       "    }\n",
       "\n",
       "    .dataframe thead th {\n",
       "        text-align: right;\n",
       "    }\n",
       "</style>\n",
       "<table border=\"1\" class=\"dataframe\">\n",
       "  <thead>\n",
       "    <tr style=\"text-align: right;\">\n",
       "      <th></th>\n",
       "      <th>target_name</th>\n",
       "      <th>indegree</th>\n",
       "    </tr>\n",
       "  </thead>\n",
       "  <tbody>\n",
       "    <tr>\n",
       "      <th>0</th>\n",
       "      <td>pkgtools/cwrappers</td>\n",
       "      <td>18456</td>\n",
       "    </tr>\n",
       "    <tr>\n",
       "      <th>1</th>\n",
       "      <td>pkgtools/x11-links</td>\n",
       "      <td>2859</td>\n",
       "    </tr>\n",
       "    <tr>\n",
       "      <th>2</th>\n",
       "      <td>x11/xorgproto</td>\n",
       "      <td>2477</td>\n",
       "    </tr>\n",
       "    <tr>\n",
       "      <th>3</th>\n",
       "      <td>x11/xcb-proto</td>\n",
       "      <td>2035</td>\n",
       "    </tr>\n",
       "    <tr>\n",
       "      <th>4</th>\n",
       "      <td>x11/qt4-tools</td>\n",
       "      <td>415</td>\n",
       "    </tr>\n",
       "    <tr>\n",
       "      <th>5</th>\n",
       "      <td>devel/boost-headers</td>\n",
       "      <td>332</td>\n",
       "    </tr>\n",
       "    <tr>\n",
       "      <th>6</th>\n",
       "      <td>devel/extra-cmake-modules</td>\n",
       "      <td>322</td>\n",
       "    </tr>\n",
       "    <tr>\n",
       "      <th>7</th>\n",
       "      <td>misc/ocaml-opaline</td>\n",
       "      <td>250</td>\n",
       "    </tr>\n",
       "    <tr>\n",
       "      <th>8</th>\n",
       "      <td>devel/p5-Module-Build</td>\n",
       "      <td>222</td>\n",
       "    </tr>\n",
       "    <tr>\n",
       "      <th>9</th>\n",
       "      <td>devel/pcre2</td>\n",
       "      <td>158</td>\n",
       "    </tr>\n",
       "  </tbody>\n",
       "</table>\n",
       "</div>"
      ],
      "text/plain": [
       "                 target_name  indegree\n",
       "0         pkgtools/cwrappers     18456\n",
       "1         pkgtools/x11-links      2859\n",
       "2              x11/xorgproto      2477\n",
       "3              x11/xcb-proto      2035\n",
       "4              x11/qt4-tools       415\n",
       "5        devel/boost-headers       332\n",
       "6  devel/extra-cmake-modules       322\n",
       "7         misc/ocaml-opaline       250\n",
       "8      devel/p5-Module-Build       222\n",
       "9                devel/pcre2       158"
      ]
     },
     "execution_count": 11,
     "metadata": {},
     "output_type": "execute_result"
    }
   ],
   "source": [
    "import pandas as pd\n",
    "from sqlalchemy import create_engine\n",
    "\n",
    "\n",
    "db_engine = create_engine('sqlite://')  # in memory DB\n",
    "\n",
    "deps_df = pd.read_csv(\"ports/netbsd9/netbsd9_dependencies_03-18-2022.csv\")\n",
    "deps_df.to_sql(\"Dependencies\", db_engine)\n",
    "\n",
    "query = \"\"\"SELECT target_name, COUNT(target_name) AS indegree FROM Dependencies\n",
    "GROUP BY target_name ORDER BY indegree DESC\n",
    "LIMIT 10;\"\"\"\n",
    "\n",
    "pd.read_sql(query, db_engine)"
   ]
  },
  {
   "cell_type": "markdown",
   "metadata": {
    "slideshow": {
     "slide_type": "subslide"
    }
   },
   "source": [
    "### Example use case – Pandas: Identify license changes"
   ]
  },
  {
   "cell_type": "code",
   "execution_count": 12,
   "metadata": {},
   "outputs": [
    {
     "data": {
      "text/html": [
       "<div>\n",
       "<style scoped>\n",
       "    .dataframe tbody tr th:only-of-type {\n",
       "        vertical-align: middle;\n",
       "    }\n",
       "\n",
       "    .dataframe tbody tr th {\n",
       "        vertical-align: top;\n",
       "    }\n",
       "\n",
       "    .dataframe thead th {\n",
       "        text-align: right;\n",
       "    }\n",
       "</style>\n",
       "<table border=\"1\" class=\"dataframe\">\n",
       "  <thead>\n",
       "    <tr style=\"text-align: right;\">\n",
       "      <th></th>\n",
       "      <th>name</th>\n",
       "      <th>licenses</th>\n",
       "    </tr>\n",
       "  </thead>\n",
       "  <tbody>\n",
       "    <tr>\n",
       "      <th>0</th>\n",
       "      <td>bzip2</td>\n",
       "      <td>{['bzip2-1.0.8'], ['bzip2-1.0.6']}</td>\n",
       "    </tr>\n",
       "    <tr>\n",
       "      <th>1</th>\n",
       "      <td>freetype</td>\n",
       "      <td>{['bzip2-1.0.8'], ['MIT']}</td>\n",
       "    </tr>\n",
       "    <tr>\n",
       "      <th>2</th>\n",
       "      <td>jsonnet</td>\n",
       "      <td>{['Apache-2.0'], ['MIT']}</td>\n",
       "    </tr>\n",
       "    <tr>\n",
       "      <th>3</th>\n",
       "      <td>mbedtls</td>\n",
       "      <td>{['GPL-2.0', 'Apache-2.0'], ['Apache-2.0']}</td>\n",
       "    </tr>\n",
       "    <tr>\n",
       "      <th>4</th>\n",
       "      <td>miniaudio</td>\n",
       "      <td>{['miniaudio-0.10.39'], ['miniaudio-0.11.7'], ['miniaudio-0.10.40'], ['miniaudio-0.10.33'], ['miniaudio-0.11.6'], ['miniaudio-0.11.8'], ['miniaudio-0.10.35'], ['miniaudio-0.10.32'], ['miniaudio-0.11.2']}</td>\n",
       "    </tr>\n",
       "    <tr>\n",
       "      <th>5</th>\n",
       "      <td>mosquitto</td>\n",
       "      <td>{['EPL-2.0'], ['MIT']}</td>\n",
       "    </tr>\n",
       "    <tr>\n",
       "      <th>6</th>\n",
       "      <td>opencv</td>\n",
       "      <td>{['MPL-2.0', 'LGPL-3.0-or-later'], ['Apache-2.0']}</td>\n",
       "    </tr>\n",
       "    <tr>\n",
       "      <th>7</th>\n",
       "      <td>openssl</td>\n",
       "      <td>{['OpenSSL'], ['Apache-2.0']}</td>\n",
       "    </tr>\n",
       "    <tr>\n",
       "      <th>8</th>\n",
       "      <td>poco</td>\n",
       "      <td>{['bzip2-1.0.8'], ['Apache-2.0']}</td>\n",
       "    </tr>\n",
       "    <tr>\n",
       "      <th>9</th>\n",
       "      <td>proj</td>\n",
       "      <td>{['GPL-2.0'], ['MIT']}</td>\n",
       "    </tr>\n",
       "    <tr>\n",
       "      <th>10</th>\n",
       "      <td>rmlui</td>\n",
       "      <td>{['bzip2-1.0.8'], ['MIT']}</td>\n",
       "    </tr>\n",
       "    <tr>\n",
       "      <th>11</th>\n",
       "      <td>scnlib</td>\n",
       "      <td>{['Apache-2.0', 'MIT'], ['Apache-2.0']}</td>\n",
       "    </tr>\n",
       "    <tr>\n",
       "      <th>12</th>\n",
       "      <td>sentry-crashpad</td>\n",
       "      <td>{['OpenSSL'], ['Apache-2.0']}</td>\n",
       "    </tr>\n",
       "    <tr>\n",
       "      <th>13</th>\n",
       "      <td>stduuid</td>\n",
       "      <td>{['BSD-3-Clause'], ['MIT']}</td>\n",
       "    </tr>\n",
       "    <tr>\n",
       "      <th>14</th>\n",
       "      <td>zbar</td>\n",
       "      <td>{['LGPL-2.1'], ['LGPL-2.1-only']}</td>\n",
       "    </tr>\n",
       "  </tbody>\n",
       "</table>\n",
       "</div>"
      ],
      "text/plain": [
       "               name  \\\n",
       "0             bzip2   \n",
       "1          freetype   \n",
       "2           jsonnet   \n",
       "3           mbedtls   \n",
       "4         miniaudio   \n",
       "5         mosquitto   \n",
       "6            opencv   \n",
       "7           openssl   \n",
       "8              poco   \n",
       "9              proj   \n",
       "10            rmlui   \n",
       "11           scnlib   \n",
       "12  sentry-crashpad   \n",
       "13          stduuid   \n",
       "14             zbar   \n",
       "\n",
       "                                                                                                                                                                                                       licenses  \n",
       "0                                                                                                                                                                            {['bzip2-1.0.8'], ['bzip2-1.0.6']}  \n",
       "1                                                                                                                                                                                    {['bzip2-1.0.8'], ['MIT']}  \n",
       "2                                                                                                                                                                                     {['Apache-2.0'], ['MIT']}  \n",
       "3                                                                                                                                                                   {['GPL-2.0', 'Apache-2.0'], ['Apache-2.0']}  \n",
       "4   {['miniaudio-0.10.39'], ['miniaudio-0.11.7'], ['miniaudio-0.10.40'], ['miniaudio-0.10.33'], ['miniaudio-0.11.6'], ['miniaudio-0.11.8'], ['miniaudio-0.10.35'], ['miniaudio-0.10.32'], ['miniaudio-0.11.2']}  \n",
       "5                                                                                                                                                                                        {['EPL-2.0'], ['MIT']}  \n",
       "6                                                                                                                                                            {['MPL-2.0', 'LGPL-3.0-or-later'], ['Apache-2.0']}  \n",
       "7                                                                                                                                                                                 {['OpenSSL'], ['Apache-2.0']}  \n",
       "8                                                                                                                                                                             {['bzip2-1.0.8'], ['Apache-2.0']}  \n",
       "9                                                                                                                                                                                        {['GPL-2.0'], ['MIT']}  \n",
       "10                                                                                                                                                                                   {['bzip2-1.0.8'], ['MIT']}  \n",
       "11                                                                                                                                                                      {['Apache-2.0', 'MIT'], ['Apache-2.0']}  \n",
       "12                                                                                                                                                                                {['OpenSSL'], ['Apache-2.0']}  \n",
       "13                                                                                                                                                                                  {['BSD-3-Clause'], ['MIT']}  \n",
       "14                                                                                                                                                                            {['LGPL-2.1'], ['LGPL-2.1-only']}  "
      ]
     },
     "execution_count": 12,
     "metadata": {},
     "output_type": "execute_result"
    }
   ],
   "source": [
    "import pandas as pd\n",
    "pd.set_option('display.max_colwidth', None)\n",
    "\n",
    "df = pd.read_csv(\"conan/conan_versions_03-18-2022.csv\")\n",
    "rdf = df.groupby(\"pkg_idx\").filter(lambda x: len(set(x.license)) > 1)\n",
    "ldf = rdf.groupby(\"name\").apply(lambda x: set(x.license)).to_frame().reset_index()\n",
    "ldf.rename(columns={0: \"licenses\"}, inplace=True)\n",
    "ldf"
   ]
  },
  {
   "cell_type": "markdown",
   "metadata": {
    "slideshow": {
     "slide_type": "skip"
    }
   },
   "source": [
    "### Example use case –  NetworkX: Compute a centrality metric"
   ]
  },
  {
   "cell_type": "code",
   "execution_count": null,
   "metadata": {
    "slideshow": {
     "slide_type": "skip"
    }
   },
   "outputs": [],
   "source": [
    "import pandas as pd\n",
    "import networkx as nx\n",
    "import numpy as np\n",
    "\n",
    "ddf = pd.read_csv(\"conan/conan_dependencies_03-18-2022.csv\")\n",
    "ddf = ddf[(~ddf.pkg_idx.isnull()) & (~ddf.target_idx.isnull())]\n",
    "adjl = ddf[[\"pkg_idx\", \"target_idx\"]].to_numpy()\n",
    "np.savetxt(\"/tmp/conan.adjl\", adjl, fmt=\"%u\", delimiter=\" \")\n",
    "\n",
    "g = nx.read_adjlist(\"/tmp/conan.adjl\", nodetype=int, create_using=nx.DiGraph)\n",
    "betweennes_ranks = nx.betweenness_centrality(g)\n",
    "data = sorted(betweennes_ranks.items(), key=lambda item: item[1], reverse=True)\n",
    "rdf = pd.DataFrame(data, columns=[\"pkg_idx\", \"betweenes\"])\n",
    "\n",
    "pdf = pd.read_csv(\"conan/conan_packages_03-18-2022.csv\")\n",
    "pd.merge(pdf, rdf, left_on=\"idx\", right_on=\"pkg_idx\").sort_values(by=\"betweenes\", ascending=False)[:3]"
   ]
  },
  {
   "cell_type": "markdown",
   "metadata": {
    "slideshow": {
     "slide_type": "subslide"
    }
   },
   "source": [
    "### Example use case –  SigmaJS: Visualize a dependency graph"
   ]
  },
  {
   "cell_type": "code",
   "execution_count": 13,
   "metadata": {},
   "outputs": [
    {
     "data": {
      "application/vnd.jupyter.widget-view+json": {
       "model_id": "1650afdf96f0489186cdbd9434ed706d",
       "version_major": 2,
       "version_minor": 0
      },
      "text/plain": [
       "Sigma(nx.DiGraph with 1,440 nodes and 5,685 edges)"
      ]
     },
     "metadata": {},
     "output_type": "display_data"
    }
   ],
   "source": [
    "import pandas as pd, numpy as np, networkx as nx\n",
    "from ipysigma import Sigma\n",
    "\n",
    "ddf = pd.read_csv(\"vcpkg/vcpkg_dependencies_03-18-2022.csv\")\n",
    "ddf = ddf[(~ddf.pkg_idx.isnull()) & (~ddf.target_idx.isnull())]\n",
    "adjl = ddf[[\"source_name\", \"target_name\"]]\n",
    "adjl.to_csv(\"/tmp/vcpkg.adjl\", index=False, header=False)\n",
    "g = nx.read_adjlist(\"/tmp/vcpkg.adjl\", nodetype=str, delimiter=\",\", create_using=nx.DiGraph)\n",
    "Sigma(g)"
   ]
  },
  {
   "cell_type": "markdown",
   "metadata": {
    "slideshow": {
     "slide_type": "slide"
    }
   },
   "source": [
    "<table>\n",
    "  <tr>\n",
    "    <th>\n",
    "    </th>\n",
    "    <th>\n",
    "      <a href=\"http://dasea.org\">\n",
    "        <center>\n",
    "          <h2>Get the dataset</h2>\n",
    "          <img src=\"images/getit_end.png\" width=\"96%\">\n",
    "        </center>\n",
    "      </a>      \n",
    "    </th>\n",
    "    <th>\n",
    "    </th>      \n",
    "  </tr>\n",
    "  <tr>\n",
    "    <th>\n",
    "      <a href=\"https://mybinder.org/v2/gh/DaSEA-project/MSR22-DaSEA-Dataset-Presentation/main?filepath=index.ipynb\">\n",
    "        <center>\n",
    "          <h2>Check the presentation</h2>\n",
    "          <img src=\"images/presentation.png\" width=\"87%\">\n",
    "        </center>\n",
    "      </a>\n",
    "    </th>\n",
    "    <th>\n",
    "      <a href=\"https://github.com/DaSEA-project/DASEA\">\n",
    "        <center>\n",
    "          <h2>Contribute</h2>\n",
    "          <img src=\"images/contribute.png\" width=\"90%\">\n",
    "        </center>\n",
    "      </a>\n",
    "    </th>\n",
    "    <th>\n",
    "      <a href=\"https://itu.dk/~ropf/blog/assets/msr2022.pdf\">\n",
    "        <center>\n",
    "          <h2>Read the paper</h2>\n",
    "          <img src=\"images/paper.png\" width=\"100%\">\n",
    "        </center>\n",
    "      </a>\n",
    "    </th>      \n",
    "  </tr>    \n",
    "</table>"
   ]
  }
 ],
 "metadata": {
  "celltoolbar": "Slideshow",
  "kernelspec": {
   "display_name": "Python 3",
   "language": "python",
   "name": "python3"
  },
  "language_info": {
   "codemirror_mode": {
    "name": "ipython",
    "version": 3
   },
   "file_extension": ".py",
   "mimetype": "text/x-python",
   "name": "python",
   "nbconvert_exporter": "python",
   "pygments_lexer": "ipython3",
   "version": "3.7.6"
  },
  "livereveal": {
   "autolaunch": true,
   "scroll": true
  }
 },
 "nbformat": 4,
 "nbformat_minor": 2
}
